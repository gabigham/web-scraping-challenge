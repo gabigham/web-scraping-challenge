{
 "cells": [
  {
   "cell_type": "code",
   "execution_count": 1,
   "metadata": {},
   "outputs": [],
   "source": [
    "from splinter import Browser\n",
    "from bs4 import BeautifulSoup\n",
    "import pandas as pd\n",
    "from splinter.exceptions import ElementDoesNotExist\n",
    "import re"
   ]
  },
  {
   "cell_type": "code",
   "execution_count": 2,
   "metadata": {},
   "outputs": [],
   "source": [
    "executable_path = {'executable_path': '/usr/local/bin/chromedriver'}\n",
    "browser = Browser('chrome', **executable_path, headless=False)"
   ]
  },
  {
   "cell_type": "markdown",
   "metadata": {},
   "source": [
    "## Scrape nasa Mars news"
   ]
  },
  {
   "cell_type": "code",
   "execution_count": 3,
   "metadata": {},
   "outputs": [],
   "source": [
    "url = 'https://mars.nasa.gov/news/?page=0&per_page=40&order=publish_date+desc%2Ccreated_at+desc&search=&category=19%2C165%2C184%2C204&blank_scope=Latest'\n",
    "browser.visit(url)"
   ]
  },
  {
   "cell_type": "code",
   "execution_count": 4,
   "metadata": {},
   "outputs": [
    {
     "name": "stdout",
     "output_type": "stream",
     "text": [
      "NASA's Mars 2020 Comes Full Circle\n",
      "Aiming to pinpoint the Martian vehicle's center of gravity, engineers took NASA's 2,300-pound Mars 2020 rover for a spin in the clean room at JPL.\n"
     ]
    }
   ],
   "source": [
    "# Stores titles and news in db dict\n",
    "\n",
    "titles = []\n",
    "news = []\n",
    "\n",
    "for i in range(5):\n",
    "    # Click the 'More' button five times\n",
    "    try:\n",
    "        browser.click_link_by_text('More')\n",
    "    except:\n",
    "        print(\"Scraping Complete\")\n",
    "        \n",
    "\n",
    "for x in range(1):\n",
    "    # HTML object\n",
    "    html = browser.html\n",
    "    # Parse HTML with Beautiful Soup\n",
    "    soup = BeautifulSoup(html, 'html.parser')\n",
    "    # Retrieve all elements that contain book information\n",
    "    articles = soup.find_all('li', class_='slide')\n",
    "    \n",
    "    # Iterate through each book\n",
    "    for article in articles:\n",
    "        # Use Beautiful Soup's find() method to navigate and retrieve attributes\n",
    "        news_title = article.find('div', class_=\"content_title\").text.strip()\n",
    "        news_p = article.find('div', class_=\"article_teaser_body\").text.strip()\n",
    "        titles.append(news_title)\n",
    "        news.append(news_p)\n",
    "\n",
    "        \n",
    "db = {\"news_titles\":titles, \"news_p\":news}\n",
    "print(db[\"news_titles\"][0])\n",
    "print(db[\"news_p\"][0])"
   ]
  },
  {
   "cell_type": "code",
   "execution_count": 5,
   "metadata": {},
   "outputs": [],
   "source": [
    "# visit images page\n",
    "\n",
    "featured_image_url = 'https://www.jpl.nasa.gov/spaceimages/?search=&category=Mars'\n",
    "browser.visit(featured_image_url)\n",
    "html = browser.html\n",
    "soup = BeautifulSoup(html, 'html.parser')\n"
   ]
  },
  {
   "cell_type": "code",
   "execution_count": 6,
   "metadata": {},
   "outputs": [
    {
     "name": "stdout",
     "output_type": "stream",
     "text": [
      "https://www.jpl.nasa.gov/spaceimages/images/wallpaper/PIA17924-1920x1200.jpg\n"
     ]
    }
   ],
   "source": [
    "# scrape and save featured image url\n",
    "\n",
    "image_url = soup.find('article', class_='carousel_item')['style']\n",
    "image_url = image_url.partition(\"'\")[2].partition(\"'\")[0]\n",
    "featured_image_url = 'https://www.jpl.nasa.gov' + image_url\n",
    "print(featured_image_url)"
   ]
  },
  {
   "cell_type": "code",
   "execution_count": 7,
   "metadata": {},
   "outputs": [],
   "source": [
    "# visit twitter\n",
    "\n",
    "twitter_url = 'https://twitter.com/marswxreport?lang=en'\n",
    "browser.visit(twitter_url)\n",
    "html = browser.html\n",
    "soup = BeautifulSoup(html, 'html.parser')"
   ]
  },
  {
   "cell_type": "code",
   "execution_count": 8,
   "metadata": {},
   "outputs": [
    {
     "name": "stdout",
     "output_type": "stream",
     "text": [
      "InSight sol 252 (2019-08-12) low -100.8ºC (-149.4ºF) high -26.0ºC (-14.8ºF)\n",
      "winds from the SSW at 4.4 m/s (9.8 mph) gusting to 18.3 m/s (40.9 mph)\n",
      "pressure at 7.60 hPapic.twitter.com/WY3JQBXVuU\n"
     ]
    }
   ],
   "source": [
    "# scrape latest weather\n",
    "\n",
    "tweets = soup.find_all('p', class_=\"TweetTextSize TweetTextSize--normal js-tweet-text tweet-text\")\n",
    "latest_weather = \"\"\n",
    "for tweet in tweets:\n",
    "    if tweet.text[0:7] == \"InSight\":\n",
    "        latest_weather = tweet.text\n",
    "print(latest_weather)"
   ]
  },
  {
   "cell_type": "code",
   "execution_count": 19,
   "metadata": {},
   "outputs": [],
   "source": [
    "# visit USGS site for cerebus image\n",
    "\n",
    "usgs_url = \"https://astrogeology.usgs.gov/search/map/Mars/Viking/cerberus_enhanced\"\n",
    "browser.visit(usgs_url)\n",
    "html = browser.html\n",
    "soup = BeautifulSoup(html, 'html.parser')\n",
    "hemisphere_image_urls = []\n"
   ]
  },
  {
   "cell_type": "code",
   "execution_count": 20,
   "metadata": {},
   "outputs": [
    {
     "name": "stdout",
     "output_type": "stream",
     "text": [
      "{'title': 'Cerberus Hemisphere', 'img_url': 'http://astropedia.astrogeology.usgs.gov/download/Mars/Viking/cerberus_enhanced.tif/full.jpg'}\n"
     ]
    }
   ],
   "source": [
    "# pull full cerebus image url\n",
    "\n",
    "cerebus_url = soup.find('div', class_='downloads')\n",
    "hemisphere_image_urls.append({\"title\": \"Cerberus Hemisphere\", 'img_url': cerebus_url.find('a')['href']})\n"
   ]
  },
  {
   "cell_type": "code",
   "execution_count": 23,
   "metadata": {},
   "outputs": [],
   "source": [
    "# visit USGS site for schiaparelli image and pull full size image\n",
    "\n",
    "usgs_url = \"https://astrogeology.usgs.gov/search/map/Mars/Viking/schiaparelli_enhanced\"\n",
    "browser.visit(usgs_url)\n",
    "html = browser.html\n",
    "soup = BeautifulSoup(html, 'html.parser')\n",
    "schiaparelli_url = soup.find('div', class_='downloads')\n",
    "hemisphere_image_urls.append({\"title\": \"schiaparelli Hemisphere\", 'img_url': schiaparelli_url.find('a')['href']})\n"
   ]
  },
  {
   "cell_type": "code",
   "execution_count": 24,
   "metadata": {},
   "outputs": [],
   "source": [
    "# visit USGS site for syrtis_major image and pull full size image\n",
    "\n",
    "usgs_url = \"https://astrogeology.usgs.gov/search/map/Mars/Viking/syrtis_major_enhanced\"\n",
    "browser.visit(usgs_url)\n",
    "html = browser.html\n",
    "soup = BeautifulSoup(html, 'html.parser')\n",
    "syrtis_major_url = soup.find('div', class_='downloads')\n",
    "hemisphere_image_urls.append({\"title\": \"Syrtis Major Hemisphere\", 'img_url': syrtis_major_url.find('a')['href']})\n",
    "        "
   ]
  },
  {
   "cell_type": "code",
   "execution_count": 25,
   "metadata": {},
   "outputs": [],
   "source": [
    "# visit USGS site for valles_marineris image and pull full size image\n",
    "\n",
    "usgs_url = \"https://astrogeology.usgs.gov/search/map/Mars/Viking/valles_marineris_enhanced\"\n",
    "browser.visit(usgs_url)\n",
    "html = browser.html\n",
    "soup = BeautifulSoup(html, 'html.parser')\n",
    "valles_marineris_url = soup.find('div', class_='downloads')\n",
    "hemisphere_image_urls.append({\"title\": \"Valles Marineris Hemisphere\", 'img_url': valles_marineris_url.find('a')['href']})\n",
    "       "
   ]
  },
  {
   "cell_type": "code",
   "execution_count": 31,
   "metadata": {},
   "outputs": [
    {
     "name": "stdout",
     "output_type": "stream",
     "text": [
      "5\n"
     ]
    }
   ],
   "source": [
    "print(len(hemisphere_image_urls))"
   ]
  },
  {
   "cell_type": "code",
   "execution_count": null,
   "metadata": {},
   "outputs": [],
   "source": []
  }
 ],
 "metadata": {
  "kernelspec": {
   "display_name": "Python 3",
   "language": "python",
   "name": "python3"
  },
  "language_info": {
   "codemirror_mode": {
    "name": "ipython",
    "version": 3
   },
   "file_extension": ".py",
   "mimetype": "text/x-python",
   "name": "python",
   "nbconvert_exporter": "python",
   "pygments_lexer": "ipython3",
   "version": "3.6.8"
  }
 },
 "nbformat": 4,
 "nbformat_minor": 2
}
